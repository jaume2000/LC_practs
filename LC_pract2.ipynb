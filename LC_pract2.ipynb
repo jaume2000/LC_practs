{
 "cells": [
  {
   "cell_type": "code",
   "execution_count": 42,
   "metadata": {},
   "outputs": [
    {
     "name": "stderr",
     "output_type": "stream",
     "text": [
      "[nltk_data] Downloading package cess_esp to /home/jaume/nltk_data...\n",
      "[nltk_data]   Package cess_esp is already up-to-date!\n"
     ]
    }
   ],
   "source": [
    "import nltk\n",
    "nltk.download(\"cess_esp\")\n",
    "from nltk.corpus import cess_esp\n",
    "\n",
    "# Read the corpus into a list, \n",
    "# each entry in the list is one sentence.\n"
   ]
  },
  {
   "cell_type": "markdown",
   "metadata": {},
   "source": [
    "## Preproceso del corpus"
   ]
  },
  {
   "cell_type": "code",
   "execution_count": 76,
   "metadata": {},
   "outputs": [],
   "source": [
    "cess_sents = cess_esp.tagged_sents()\n",
    "processed_cess_sents = []\n",
    "for phrase in cess_sents:\n",
    "    processed_phrase = []\n",
    "    for w in phrase:\n",
    "        tag = ''\n",
    "        if w[0] == '*0*':\n",
    "            continue\n",
    "        if len(w[1]) > 2:\n",
    "            if w[1][0] == 'v':\n",
    "                tag=w[1][:3]\n",
    "            else:\n",
    "                tag=w[1][:2]\n",
    "        else:\n",
    "            tag = w[1]\n",
    "\n",
    "        processed_phrase.append((w[0],tag))\n",
    "    processed_cess_sents.append(processed_phrase)\n"
   ]
  },
  {
   "cell_type": "markdown",
   "metadata": {},
   "source": [
    "90 % de train y 10% de test"
   ]
  },
  {
   "cell_type": "code",
   "execution_count": 54,
   "metadata": {},
   "outputs": [],
   "source": [
    "train_n = round(len(processed_cess_sents) * 0.9)\n",
    "train_data = processed_cess_sents[:train_n]\n",
    "test_data = processed_cess_sents[train_n:]"
   ]
  },
  {
   "cell_type": "markdown",
   "metadata": {},
   "source": [
    "## Uso de Hiden Markov Models"
   ]
  },
  {
   "cell_type": "code",
   "execution_count": 55,
   "metadata": {},
   "outputs": [
    {
     "name": "stdout",
     "output_type": "stream",
     "text": [
      "Exactitud del modelo: 0.27393181479827305\n"
     ]
    }
   ],
   "source": [
    "from nltk.tag import hmm\n",
    "\n",
    "trainer = hmm.HiddenMarkovModelTrainer()\n",
    "hmm_tagger = trainer.train(train_data)\n",
    "acc = hmm_tagger.accuracy(test_data)\n",
    "print(\"Exactitud del modelo:\", acc)"
   ]
  },
  {
   "cell_type": "markdown",
   "metadata": {},
   "source": [
    "Ejemplo de tagging con un HMM dada una frase aleatoria del conjunto de test"
   ]
  },
  {
   "cell_type": "code",
   "execution_count": 63,
   "metadata": {},
   "outputs": [
    {
     "name": "stdout",
     "output_type": "stream",
     "text": [
      "Jáuregui entiende que Corcuera tiene motivos para estar deprimido : - A finales del 93 estaba en la cresta de la ola , muy feliz incluso por su dimisión .\n",
      "[('Jáuregui', 'np'), ('entiende', 'vmi'), ('que', 'cs'), ('Corcuera', 'np'), ('tiene', 'vmi'), ('motivos', 'nc'), ('para', 'sp'), ('estar', 'vmn'), ('deprimido', 'aq'), (':', 'Fd'), ('-', 'Fg'), ('A', 'sp'), ('finales', 'nc'), ('del', 'sp'), ('93', 'W'), ('estaba', 'vmi'), ('en', 'sp'), ('la', 'da'), ('cresta', 'nc'), ('de', 'sp'), ('la', 'da'), ('ola', 'nc'), (',', 'Fc'), ('muy', 'rg'), ('feliz', 'aq'), ('incluso', 'rg'), ('por', 'sp'), ('su', 'dp'), ('dimisión', 'nc'), ('.', 'Fp')]\n",
      "[('Jáuregui', 'np'), ('entiende', 'vmi'), ('que', 'cs'), ('Corcuera', 'np'), ('tiene', 'vmi'), ('motivos', 'nc'), ('para', 'sp'), ('estar', 'vmn'), ('deprimido', 'aq'), (':', 'Fd'), ('-', 'Fg'), ('A', 'sp'), ('finales', 'nc'), ('del', 'sp'), ('93', 'Z'), ('estaba', 'vmi'), ('en', 'sp'), ('la', 'pp'), ('cresta', 'da'), ('de', 'da'), ('la', 'da'), ('ola', 'da'), (',', 'da'), ('muy', 'da'), ('feliz', 'da'), ('incluso', 'da'), ('por', 'da'), ('su', 'da'), ('dimisión', 'da'), ('.', 'da')]\n"
     ]
    }
   ],
   "source": [
    "import random\n",
    "phrase_id  =random.randint(0,len(test_data))\n",
    "tokens = [i[0] for i in test_data[phrase_id]]\n",
    "print(' '.join(tokens))\n",
    "tagged_sentence = hmm_tagger.tag(tokens)\n",
    "print(test_data[phrase_id])\n",
    "print(tagged_sentence)"
   ]
  },
  {
   "cell_type": "markdown",
   "metadata": {},
   "source": [
    "## Uso de Trigrams 'n' Tags"
   ]
  },
  {
   "cell_type": "code",
   "execution_count": 58,
   "metadata": {},
   "outputs": [
    {
     "name": "stdout",
     "output_type": "stream",
     "text": [
      "Exactitud del modelo: 0.8254429060592526\n"
     ]
    }
   ],
   "source": [
    "from nltk.tag import tnt\n",
    "\n",
    "tnt_tagger = tnt.TnT()\n",
    "tnt_tagger.train(train_data)\n",
    "acc = tnt_tagger.accuracy(test_data)\n",
    "print(\"Exactitud del modelo:\", acc)"
   ]
  },
  {
   "cell_type": "markdown",
   "metadata": {},
   "source": [
    "Ejemplo de tagging con un TnT dada una frase aleatoria del conjunto de test"
   ]
  },
  {
   "cell_type": "code",
   "execution_count": 66,
   "metadata": {},
   "outputs": [
    {
     "name": "stdout",
     "output_type": "stream",
     "text": [
      "Son tan amables , dicen altas , pagan también a las feas y a las guapas , beben ron y coca-cola , van a Point_Cumama .\n",
      "[('Son', 'vsi'), ('tan', 'rg'), ('amables', 'aq'), (',', 'Fc'), ('dicen', 'vmi'), ('altas', 'aq'), (',', 'Fc'), ('pagan', 'vmi'), ('también', 'rg'), ('a', 'sp'), ('las', 'da'), ('feas', 'aq'), ('y', 'cc'), ('a', 'sp'), ('las', 'da'), ('guapas', 'nc'), (',', 'Fc'), ('beben', 'vmi'), ('ron', 'nc'), ('y', 'cc'), ('coca-cola', 'nc'), (',', 'Fc'), ('van', 'vmi'), ('a', 'sp'), ('Point_Cumama', 'np'), ('.', 'Fp')]\n",
      "[('Son', 'vsi'), ('tan', 'rg'), ('amables', 'Unk'), (',', 'Fc'), ('dicen', 'vmi'), ('altas', 'aq'), (',', 'Fc'), ('pagan', 'vmi'), ('también', 'rg'), ('a', 'sp'), ('las', 'da'), ('feas', 'Unk'), ('y', 'cc'), ('a', 'sp'), ('las', 'da'), ('guapas', 'Unk'), (',', 'Fc'), ('beben', 'Unk'), ('ron', 'nc'), ('y', 'cc'), ('coca-cola', 'Unk'), (',', 'Fc'), ('van', 'vmi'), ('a', 'sp'), ('Point_Cumama', 'Unk'), ('.', 'Fp')]\n"
     ]
    }
   ],
   "source": [
    "import random\n",
    "phrase_id  =random.randint(0,len(test_data))\n",
    "tokens = [i[0] for i in test_data[phrase_id]]\n",
    "print(' '.join(tokens))\n",
    "tagged_sentence = tnt_tagger.tag(tokens)\n",
    "print(test_data[phrase_id])\n",
    "print(tagged_sentence)"
   ]
  },
  {
   "cell_type": "markdown",
   "metadata": {},
   "source": [
    "## 10-fold cross validation"
   ]
  },
  {
   "cell_type": "code",
   "execution_count": 82,
   "metadata": {},
   "outputs": [],
   "source": [
    "folds = []\n",
    "step = int(len(processed_cess_sents) // 10)\n",
    "for i in range(0,len(processed_cess_sents),step):\n",
    "    folds.append(processed_cess_sents[i:(i+step)])\n",
    "\n",
    "folds[-1] = processed_cess_sents[step*9:]\n",
    "\n",
    "\n"
   ]
  },
  {
   "cell_type": "markdown",
   "metadata": {},
   "source": [
    "#### Para HMM"
   ]
  },
  {
   "cell_type": "code",
   "execution_count": 87,
   "metadata": {},
   "outputs": [],
   "source": [
    "hmms_acc = []\n",
    "from random import shuffle\n",
    "for i in range(10):\n",
    "    print(\"Entrenando el modelo nº\",(i+1),\"de 10\")\n",
    "    fold_test_data = folds[i]\n",
    "    fold_train_data = [fold for j, fold in enumerate(folds) if j != i]\n",
    "    fold_train_data = [item for sublist in fold_train_data for item in sublist]\n",
    "    shuffle(fold_train_data)\n",
    "\n",
    "    trainer = hmm.HiddenMarkovModelTrainer()\n",
    "    hmm_tagger = trainer.train(fold_train_data)\n",
    "    acc = hmm_tagger.accuracy(fold_test_data)\n",
    "    hmms_acc.append(acc)"
   ]
  },
  {
   "cell_type": "code",
   "execution_count": 90,
   "metadata": {},
   "outputs": [
    {
     "name": "stdout",
     "output_type": "stream",
     "text": [
      "[0.24788907652653097, 0.23194708707076198, 0.27897165458141066, 0.19823299591546795, 0.2907735732557114, 0.26519446275543834, 0.24853325793454442, 0.3500441826215022, 0.2330190959632584, 0.27393181479827305]\n"
     ]
    },
    {
     "data": {
      "image/png": "[encoded data removed]",
      "text/plain": [
       "<Figure size 432x288 with 1 Axes>"
      ]
     },
     "metadata": {
      "needs_background": "light"
     },
     "output_type": "display_data"
    }
   ],
   "source": [
    "import matplotlib.pyplot as plt\n",
    "x=[i for i in range(10)]\n",
    "y=hmms_acc\n",
    "plt.axis([-1, 10, 0, 0.95])\n",
    "plt.ylabel('Accuracy')\n",
    "plt.xlabel('Fold')\n",
    "plt.title('Ten-fold cross validation')\n",
    "plt.plot(x,y,'ro')\n",
    "#plt.errorbar(x,y,yerr=ic,linestyle='None')\n",
    "plt.show()"
   ]
  },
  {
   "cell_type": "markdown",
   "metadata": {},
   "source": [
    "#### Para TnT"
   ]
  },
  {
   "cell_type": "code",
   "execution_count": 93,
   "metadata": {},
   "outputs": [
    {
     "name": "stdout",
     "output_type": "stream",
     "text": [
      "Entrenando el modelo nº 1 de 10\n",
      "Entrenando el modelo nº 2 de 10\n",
      "Entrenando el modelo nº 3 de 10\n",
      "Entrenando el modelo nº 4 de 10\n",
      "Entrenando el modelo nº 5 de 10\n",
      "Entrenando el modelo nº 6 de 10\n",
      "Entrenando el modelo nº 7 de 10\n",
      "Entrenando el modelo nº 8 de 10\n",
      "Entrenando el modelo nº 9 de 10\n",
      "Entrenando el modelo nº 10 de 10\n"
     ]
    }
   ],
   "source": [
    "from nltk.tag import tnt\n",
    "\n",
    "tnt_acc = []\n",
    "from random import shuffle\n",
    "for i in range(10):\n",
    "    print(\"Entrenando el modelo nº\",(i+1),\"de 10\")\n",
    "    fold_test_data = folds[i]\n",
    "    fold_train_data = [fold for j, fold in enumerate(folds) if j != i]\n",
    "    fold_train_data = [item for sublist in fold_train_data for item in sublist]\n",
    "    shuffle(fold_train_data)\n",
    "\n",
    "    tnt_tagger = tnt.TnT()\n",
    "    tnt_tagger.train(fold_train_data)\n",
    "    acc = tnt_tagger.accuracy(fold_test_data)\n",
    "    tnt_acc.append(acc)"
   ]
  },
  {
   "cell_type": "markdown",
   "metadata": {},
   "source": [
    "Genera la gráfica"
   ]
  },
  {
   "cell_type": "code",
   "execution_count": 94,
   "metadata": {},
   "outputs": [
    {
     "data": {
      "image/png": "[encoded data removed]",
      "text/plain": [
       "<Figure size 432x288 with 1 Axes>"
      ]
     },
     "metadata": {
      "needs_background": "light"
     },
     "output_type": "display_data"
    }
   ],
   "source": [
    "import matplotlib.pyplot as plt\n",
    "x=[i for i in range(10)]\n",
    "y=tnt_acc\n",
    "plt.axis([-1, 10, 0, 0.95])\n",
    "plt.ylabel('Accuracy')\n",
    "plt.xlabel('Fold')\n",
    "plt.title('Ten-fold cross validation')\n",
    "plt.plot(x,y,'ro')\n",
    "#plt.errorbar(x,y,yerr=ic,linestyle='None')\n",
    "plt.show()"
   ]
  }
 ],
 "metadata": {
  "kernelspec": {
   "display_name": "Python 3",
   "language": "python",
   "name": "python3"
  },
  "language_info": {
   "codemirror_mode": {
    "name": "ipython",
    "version": 3
   },
   "file_extension": ".py",
   "mimetype": "text/x-python",
   "name": "python",
   "nbconvert_exporter": "python",
   "pygments_lexer": "ipython3",
   "version": "3.10.12"
  }
 },
 "nbformat": 4,
 "nbformat_minor": 2
}
