{
 "cells": [
  {
   "cell_type": "markdown",
   "metadata": {},
   "source": [
    "# INFO: Regular Expressions (python 3.x)\n",
    "\n",
    "https://docs.python.org/3/library/re.html\n",
    "\n",
    "https://docs.python.org/3/howto/regex.html#regex-howto\n",
    "\n"
   ]
  },
  {
   "cell_type": "markdown",
   "metadata": {},
   "source": [
    "# EJERCICIO 1: Quitar los signos de puntuación de la siguiente cadena:  ??. ppi. ¿casa?.. COSA. ??perro. ¿quesito? \"qüestió\" anar-hi.   "
   ]
  },
  {
   "cell_type": "code",
   "execution_count": 1,
   "metadata": {},
   "outputs": [
    {
     "name": "stdout",
     "output_type": "stream",
     "text": [
      "match ...\n",
      "None\n",
      "search ...\n",
      "<re.Match object; span=(6, 11), match='¿ppi.'>\n",
      "grupo 1: ¿\n",
      "grupo 2: ppi\n",
      "grupo 3: .\n",
      "¿ppi.\n",
      "->name:  ¿\n",
      "(6, 11)\n",
      "6\n",
      "11\n",
      "cadena= ¿ppi.\n",
      "-------------------------------------------------\n",
      "referencia a grupos a la izquierda ya analizados\n",
      "-------------------------------------------------\n",
      "<re.Match object; span=(0, 9), match='la la lam'>\n"
     ]
    }
   ],
   "source": [
    "import re\n",
    "frase=\"$ & % ¿ppi. PEPE ¿casa?.. COSA. ??perro. ¿quesito? qüestió anar-hi.\"\n",
    "#Match: al principio de la cadena\n",
    "print(\"match ...\")\n",
    "x=re.match(r'(?P<principi>[?.,;¿]*)([\\w]+)([?.,;¿]*)', frase)\n",
    "print(x)\n",
    "if x:\n",
    "    print (f\"grupo 1: {x.group(1)}\")\n",
    "    print (f\"grupo 2: {x.group(2)}\")\n",
    "    print (f\"grupo 3: {x.group(3)}\")\n",
    "if x:\n",
    "    print (x.group(0))\n",
    "\n",
    "#Search: la primera que encuentra en la cadena\n",
    "print(\"search ...\")\n",
    "x=re.search(r'(?P<principi>[?.,;¿]*)([\\w-]+)([?.,;¿]*)', frase)\n",
    "print(x)\n",
    "if x:\n",
    "    print (f\"grupo 1: {x.group(1)}\")\n",
    "    print (f\"grupo 2: {x.group(2)}\")\n",
    "    print (f\"grupo 3: {x.group(3)}\")\n",
    "if x:\n",
    "    print (x.group(0))\n",
    "\n",
    "print (\"->name: \",x.group('principi'))\n",
    "print (x.span())\n",
    "print (x.start())\n",
    "print (x.end())\n",
    "cadena=frase[x.start():x.end()]\n",
    "print (\"cadena=\",cadena)\n",
    "\n",
    "#referencia a grupos a la izquierda ya analizados\n",
    "print(\"-------------------------------------------------\")\n",
    "print(\"referencia a grupos a la izquierda ya analizados\")\n",
    "print(\"-------------------------------------------------\")\n",
    "print (re.match(r'(la) \\1 (lam)',\"la la lam\")) "
   ]
  },
  {
   "cell_type": "code",
   "execution_count": 23,
   "metadata": {},
   "outputs": [
    {
     "name": "stdout",
     "output_type": "stream",
     "text": [
      "No encontrado ...\n"
     ]
    }
   ],
   "source": [
    "#Compilar la expresion\n",
    "pattern=re.compile (r'(?P<principi>[?.,;¿]*)([\\w-]+)([?.,;¿]*)',re.I|re.U) \n",
    "#pattern es la expresión regular compilada, y sobre ella se pueden utilizar los métodos match, search, findall, ...\n",
    "\n",
    "mat=pattern.match(frase)\n",
    "if mat:\n",
    "    print (mat.group(1))\n",
    "    print (mat.group(2))\n",
    "    print (mat.group(3))\n",
    "else:\n",
    "    print(\"No encontrado ...\")"
   ]
  },
  {
   "cell_type": "code",
   "execution_count": 3,
   "metadata": {},
   "outputs": [
    {
     "name": "stdout",
     "output_type": "stream",
     "text": [
      "¿\n",
      "ppi\n",
      ".\n",
      "---------\n",
      "¿ppi.\n"
     ]
    }
   ],
   "source": [
    "\n",
    "sear=pattern.search(frase)\n",
    "if sear:\n",
    "    print (sear.group(1))\n",
    "    print (sear.group(2))\n",
    "    print (sear.group(3))\n",
    "    print(\"---------\")\n",
    "    print(sear.group(0))"
   ]
  },
  {
   "cell_type": "code",
   "execution_count": 4,
   "metadata": {},
   "outputs": [
    {
     "name": "stdout",
     "output_type": "stream",
     "text": [
      "[<re.Match object; span=(6, 11), match='¿ppi.'>, <re.Match object; span=(12, 16), match='PEPE'>, <re.Match object; span=(17, 25), match='¿casa?..'>, <re.Match object; span=(26, 31), match='COSA.'>, <re.Match object; span=(32, 40), match='??perro.'>, <re.Match object; span=(41, 50), match='¿quesito?'>, <re.Match object; span=(51, 58), match='qüestió'>, <re.Match object; span=(59, 67), match='anar-hi.'>]\n"
     ]
    }
   ],
   "source": [
    "#Finditer: Todas las ocurrencias de la cadena\n",
    "fiiter=pattern.finditer(frase)\n",
    "print ([x for x in fiiter])"
   ]
  },
  {
   "cell_type": "code",
   "execution_count": 5,
   "metadata": {},
   "outputs": [
    {
     "name": "stdout",
     "output_type": "stream",
     "text": [
      "¿\n",
      "ppi\n",
      ".\n",
      "\n",
      "PEPE\n",
      "\n",
      "¿\n",
      "casa\n",
      "?..\n",
      "\n",
      "COSA\n",
      ".\n",
      "??\n",
      "perro\n",
      ".\n",
      "¿\n",
      "quesito\n",
      "?\n",
      "\n",
      "qüestió\n",
      "\n",
      "\n",
      "anar-hi\n",
      ".\n"
     ]
    }
   ],
   "source": [
    "#Finditer:\n",
    "fiiter=pattern.finditer(frase)\n",
    "for i in fiiter:\n",
    "    print (i.group(1))\n",
    "    print (i.group(2))\n",
    "    print (i.group(3))"
   ]
  },
  {
   "cell_type": "code",
   "execution_count": 6,
   "metadata": {},
   "outputs": [
    {
     "name": "stdout",
     "output_type": "stream",
     "text": [
      "[('¿', 'ppi', '.'), ('', 'PEPE', ''), ('¿', 'casa', '?..'), ('', 'COSA', '.'), ('??', 'perro', '.'), ('¿', 'quesito', '?'), ('', 'qüestió', ''), ('', 'anar-hi', '.')]\n",
      "ppi\n",
      "PEPE\n",
      "casa\n",
      "COSA\n",
      "perro\n",
      "quesito\n",
      "qüestió\n",
      "anar-hi\n"
     ]
    }
   ],
   "source": [
    "# Findall: Todas las palabras de la frase\n",
    "fiall=pattern.findall(frase)\n",
    "print (fiall)\n",
    "for i in fiall:\n",
    "    print (i[1])"
   ]
  },
  {
   "cell_type": "markdown",
   "metadata": {},
   "source": [
    "# EJERCICIO 2: \"sustituye la palabra eso por  3 guiones, pero OJO con queso, o beso, o en ESO en mayúsculas\""
   ]
  },
  {
   "cell_type": "code",
   "execution_count": 7,
   "metadata": {},
   "outputs": [
    {
     "name": "stdout",
     "output_type": "stream",
     "text": [
      "sustituye la palabra eso por  3 guiones, pero OJO con: queso, o beso; ESO en mayúsculas sí.\n",
      "sustituye la palabra --- por  3 guiones, pero OJO con: queso, o beso; --- en mayúsculas sí.\n"
     ]
    }
   ],
   "source": [
    "import re\n",
    "frase1='sustituye la palabra eso por  3 guiones, pero OJO con: queso, o beso; ESO en mayúsculas sí.'\n",
    "print (frase1)\n",
    "susti=re.compile (r'(\\beso\\b)',re.I|re.U|re.X)\n",
    "x=re.sub(susti,\"---\",frase1)\n",
    "print(x)"
   ]
  },
  {
   "cell_type": "markdown",
   "metadata": {},
   "source": [
    "# EJERCICIO 3: encontrar fechas con formato dd/mm/aaaa, dd/mm. El separador también puede ser  un guión."
   ]
  },
  {
   "cell_type": "code",
   "execution_count": 8,
   "metadata": {},
   "outputs": [],
   "source": [
    "import re\n",
    "ejemplo=\"el 12/03-1987 el 23/03 o el 21-04 no \""
   ]
  },
  {
   "cell_type": "code",
   "execution_count": 9,
   "metadata": {},
   "outputs": [],
   "source": [
    "date=r\"(\\d{2}(/|-)\\d{2}((/|-)\\d{2,4})?)\"\n",
    "pattern=re.compile (date,re.I|re.U)\n"
   ]
  },
  {
   "cell_type": "code",
   "execution_count": 10,
   "metadata": {},
   "outputs": [
    {
     "name": "stdout",
     "output_type": "stream",
     "text": [
      "12/03-1987\n",
      "23/03\n",
      "21-04\n"
     ]
    }
   ],
   "source": [
    "fiiter=pattern.finditer(ejemplo)\n",
    "for i in fiiter:\n",
    "    print (ejemplo[i.start():i.end()])"
   ]
  },
  {
   "cell_type": "code",
   "execution_count": 11,
   "metadata": {},
   "outputs": [
    {
     "name": "stdout",
     "output_type": "stream",
     "text": [
      "<re.Match object; span=(3, 13), match='12/03-1987'>\n",
      "-\n"
     ]
    }
   ],
   "source": [
    "s=pattern.search(ejemplo)\n",
    "print (s)\n",
    "print (s.group(4))"
   ]
  },
  {
   "cell_type": "code",
   "execution_count": 12,
   "metadata": {},
   "outputs": [
    {
     "name": "stdout",
     "output_type": "stream",
     "text": [
      "None\n"
     ]
    }
   ],
   "source": [
    "m=pattern.match(ejemplo)\n",
    "print (m)"
   ]
  },
  {
   "cell_type": "code",
   "execution_count": 13,
   "metadata": {},
   "outputs": [],
   "source": [
    "# EJERCICIO 4: definir una RE que reconozca las instancias de \"Dani Alvez\" del texto del ejemplo"
   ]
  },
  {
   "cell_type": "code",
   "execution_count": 14,
   "metadata": {},
   "outputs": [
    {
     "name": "stdout",
     "output_type": "stream",
     "text": [
      "CON GRUPOS:\n",
      "----------\n",
      "('#dani', ' ', 'alves')\n",
      "('#daniel', ' ', 'alves')\n",
      "('#daniel', '', 'alves99_k')\n",
      "('@daniel_kk', ' ', 'alves')\n",
      "('', ' ', '#alves')\n",
      "('', ' ', 'alves')\n",
      "----------\n",
      "SIN GRUPOS:\n",
      "----------\n",
      "#dani alves\n",
      "#daniel alves\n",
      "#danielalves99_k\n",
      "@daniel_kk alves\n",
      " #alves\n",
      " alves\n",
      "----------\n",
      "CON 1 GRUPO findall:\n",
      "----------\n",
      "<class 'list'>\n",
      "['__add__', '__class__', '__class_getitem__', '__contains__', '__delattr__', '__delitem__', '__dir__', '__doc__', '__eq__', '__format__', '__ge__', '__getattribute__', '__getitem__', '__gt__', '__hash__', '__iadd__', '__imul__', '__init__', '__init_subclass__', '__iter__', '__le__', '__len__', '__lt__', '__mul__', '__ne__', '__new__', '__reduce__', '__reduce_ex__', '__repr__', '__reversed__', '__rmul__', '__setattr__', '__setitem__', '__sizeof__', '__str__', '__subclasshook__', 'append', 'clear', 'copy', 'count', 'extend', 'index', 'insert', 'pop', 'remove', 'reverse', 'sort']\n",
      "('#dani alves', 'a', ' ', 'alves')\n",
      "('#daniel alves', 'a', ' ', 'alves')\n",
      "('#danielalves99_k', 'a', '', 'alves99_k')\n",
      "('@daniel_kk alves', 'a', ' ', 'alves')\n",
      "(' #alves', '', ' ', '#alves')\n",
      "(' alves', '', ' ', 'alves')\n",
      "----------\n",
      "CON 1 GRUPO finiter:\n",
      "----------\n",
      "#dani alves\n",
      "a\n",
      " \n",
      "alves\n",
      "#daniel alves\n",
      "a\n",
      " \n",
      "alves\n",
      "#danielalves99_k\n",
      "a\n",
      "None\n",
      "alves99_k\n",
      "@daniel_kk alves\n",
      "a\n",
      " \n",
      "alves\n",
      " #alves\n",
      "None\n",
      " \n",
      "#alves\n",
      " alves\n",
      "None\n",
      " \n",
      "alves\n",
      "----------\n"
     ]
    }
   ],
   "source": [
    "import re\n",
    "texto= \"#dani alves #daniel alves #danielalves99_k daniel @daniel_kk alves #alves alves\"\n",
    "pattern_con_grupos=re.compile(r'([#@]?dani\\S*)? (\\s)* ([#@]?alves\\S*)+',re.I|re.X)\n",
    "pattern_sin_grupos=re.compile(r'(?:[#@]?dani\\S*)? (?:\\s)* (?:[#@]?alves\\S*)+',re.I|re.X)\n",
    "pattern_con_grup=re.compile(r'((?:[#@]?d(a)ni\\S*)? (\\s)* ([#@]?alves\\S*)+)',re.I|re.X)\n",
    "#IMPORTANTE: poner la opciones:\n",
    "# re.I: para olvidarte de mayúsculas y minúsculas\n",
    "# re.X: para olvidarte de blancos y comentarios dentro de las expresiones regulares\n",
    "#        si no se pone y dejas un blanco, es una parte mas de regex\n",
    "# Ojo con los parentesis: cada vez que pones una expresión entre parentesis es un grupo \n",
    "# y a veces no interesa\n",
    "# Si pones por ejemplo (xxx) es un grupo, si no quieres grupo (?:xxx)\n",
    "\n",
    "#Con grupos\n",
    "print(\"CON GRUPOS:\")\n",
    "print(\"----------\") \n",
    "results_grupos=pattern_con_grupos.findall(texto)\n",
    "for f in results_grupos:\n",
    "    print (f)\n",
    "print(\"----------\")  \n",
    "\n",
    "#Sin grupos\n",
    "print(\"SIN GRUPOS:\")\n",
    "print(\"----------\") \n",
    "results_sin_grupos=pattern_sin_grupos.findall(texto)\n",
    "for f in results_sin_grupos:\n",
    "    print (f)\n",
    "print(\"----------\") \n",
    "#Con 1 grupo findall\n",
    "print(\"CON 1 GRUPO findall:\")\n",
    "print(\"----------\") \n",
    "results_grup=pattern_con_grup.findall(texto)\n",
    "print (type(results_grup))\n",
    "print (dir(results_grup))\n",
    "for f in results_grup:\n",
    "    print (f)\n",
    "print(\"----------\") \n",
    "\n",
    "##Con 1 grupo finditer\n",
    "print(\"CON 1 GRUPO finiter:\")\n",
    "print(\"----------\") \n",
    "fiiter=pattern_con_grup.finditer(texto)\n",
    "for i in fiiter:\n",
    "    print (i.group(1))\n",
    "    print (i.group(2))\n",
    "    print (i.group(3))\n",
    "    print (i.group(4))\n",
    "print(\"----------\") \n"
   ]
  },
  {
   "cell_type": "markdown",
   "metadata": {},
   "source": [
    "# Ejercicio 5: Elongated words and censured words"
   ]
  },
  {
   "cell_type": "code",
   "execution_count": 15,
   "metadata": {},
   "outputs": [
    {
     "name": "stdout",
     "output_type": "stream",
     "text": [
      "['soooo', 'hiiiii', 'whyyyy', 'callllllllla']\n"
     ]
    }
   ],
   "source": [
    "cad= 'soooo hiiiii whyyyy done calla callllllllla'\n",
    "import re \n",
    "elongated = re.compile(r\"(.)\\1{2}\")\n",
    "print ([word for word in cad.split() if elongated.search(word)])"
   ]
  },
  {
   "cell_type": "code",
   "execution_count": 16,
   "metadata": {},
   "outputs": [
    {
     "name": "stdout",
     "output_type": "stream",
     "text": [
      "so hi why done calla cala\n"
     ]
    }
   ],
   "source": [
    "import re\n",
    "frase1='soooo hiiiii whyyyy done calla callllllllla'\n",
    "norm=re.compile (r\"(.)\\1{2,}\",re.I|re.U|re.X)\n",
    "x=re.sub(norm,r\"\\1\",frase1)\n",
    "print(x)"
   ]
  },
  {
   "cell_type": "code",
   "execution_count": 17,
   "metadata": {},
   "outputs": [
    {
     "name": "stdout",
     "output_type": "stream",
     "text": [
      "['p**a', 'c**o', 'm*****n']\n"
     ]
    }
   ],
   "source": [
    "fraseC=\"p**a c**o puto m*****n\"\n",
    "censurado=re.compile (r'(?:\\b\\w+[*]+\\w+\\b)')\n",
    "print([word for word in fraseC.split() if censurado.search(word)])                                "
   ]
  },
  {
   "cell_type": "code",
   "execution_count": 18,
   "metadata": {},
   "outputs": [
    {
     "name": "stdout",
     "output_type": "stream",
     "text": [
      "['Hola', 'Ál2ó', 'p1', 'p2']\n",
      "['Hola', 'Ál2ó', 'p1', 'p2']\n"
     ]
    }
   ],
   "source": [
    "import re\n",
    "text=\"Hola Ál2ó. &%$p1 p2@#.!\"\n",
    "prova=re.compile (r'(\\w+)')\n",
    "prova1=re.compile(r'([\\w]+)')\n",
    "results=prova1.findall(text)\n",
    "results1=prova.findall(text)\n",
    "print (results)\n",
    "print(results1)"
   ]
  },
  {
   "cell_type": "code",
   "execution_count": 19,
   "metadata": {},
   "outputs": [
    {
     "name": "stdout",
     "output_type": "stream",
     "text": [
      "['💕', '👭', '👙', '😊']\n",
      "['💕', '👭', '👙', '😊']\n"
     ]
    }
   ],
   "source": [
    "import re\n",
    "text=\":;.,💕👭👙😊 hola ll @ #\"\n",
    "emoticons=re.compile(\"[^\\w\\s\\.:;,@]\")\n",
    "emoticons=re.compile(\"[\\U00010000-\\U0010ffff]\")\n",
    "results=emoticons.findall(text)\n",
    "results1=emoticons.findall(text)\n",
    "print(results)\n",
    "print(results1)"
   ]
  }
 ],
 "metadata": {
  "kernelspec": {
   "display_name": "Python 3 (ipykernel)",
   "language": "python",
   "name": "python3"
  },
  "language_info": {
   "codemirror_mode": {
    "name": "ipython",
    "version": 3
   },
   "file_extension": ".py",
   "mimetype": "text/x-python",
   "name": "python",
   "nbconvert_exporter": "python",
   "pygments_lexer": "ipython3",
   "version": "3.10.12"
  }
 },
 "nbformat": 4,
 "nbformat_minor": 1
}
