{
  "nbformat": 4,
  "nbformat_minor": 0,
  "metadata": {
    "colab": {
      "provenance": []
    },
    "kernelspec": {
      "name": "python3",
      "display_name": "Python 3"
    },
    "language_info": {
      "name": "python"
    }
  },
  "cells": [
    {
      "cell_type": "code",
      "execution_count": 2,
      "metadata": {
        "id": "Zf5c9yvnU2BY"
      },
      "outputs": [],
      "source": [
        "# Preproceso: Cargamos la cadena a analizar en los 4 ejercicios.\n",
        "cadena =\"El/DT perro/N come/V carne/N de/P la/DT carnicería/N y/C de/P la/DT nevera/N y/C canta/V el/DT la/N la/N la/N ./Fp\""
      ]
    },
    {
      "cell_type": "code",
      "source": [
        "#Ejercicio 1:\n",
        "# Obtener un diccionario, que para cada categoría, muestre su frecuencia. Ordenar el resultado alfabéticamente por categoría.\n",
        "\n",
        "l = [w.split('/')[1] for w in cadena.split()];\n",
        "cont_dict = [[x,l.count(x)] for x in set(l)]\n",
        "cont_dict.sort(key=(lambda e: e[0]))\n",
        "dict(cont_dict)"
      ],
      "metadata": {
        "colab": {
          "base_uri": "https://localhost:8080/"
        },
        "id": "0BvtYPvXhmt4",
        "outputId": "c8bf2a43-679d-43f6-8c1e-25743ace8cbc"
      },
      "execution_count": null,
      "outputs": [
        {
          "output_type": "execute_result",
          "data": {
            "text/plain": [
              "{'C': 2, 'DT': 4, 'Fp': 1, 'N': 7, 'P': 2, 'V': 2}"
            ]
          },
          "metadata": {},
          "execution_count": 18
        }
      ]
    },
    {
      "cell_type": "code",
      "source": [
        "#Ejercicio 2\n",
        "#  Obtener un diccionario, que para cada palabra, muestre su frecuencia, y una lista de\n",
        "# sus categorías morfosintácticas con su respectiva frecuencia. Mostrar el resultado\n",
        "# ordenado alfabéticamente por palabra.\n",
        "\n",
        "d = dict()\n",
        "l = [tuple(i.split('/')) for i in cadena.split()]\n",
        "l.sort(key=lambda x: x[0])\n",
        "for e in l:\n",
        "  w,c = e\n",
        "  d[w] = d.get(w,[0,dict()])\n",
        "  d[w][1][c] = d[w][1].get(c,0)\n",
        "  d[w][1][c]+=1\n",
        "  d[w][0]+=1\n",
        "d"
      ],
      "metadata": {
        "colab": {
          "base_uri": "https://localhost:8080/"
        },
        "id": "lCyYj9APilq4",
        "outputId": "b0bcf8d8-41b4-4e98-a4f5-bff3b6b5a720"
      },
      "execution_count": 13,
      "outputs": [
        {
          "output_type": "execute_result",
          "data": {
            "text/plain": [
              "{'.': [1, {'Fp': 1}],\n",
              " 'El': [1, {'DT': 1}],\n",
              " 'canta': [1, {'V': 1}],\n",
              " 'carne': [1, {'N': 1}],\n",
              " 'carnicería': [1, {'N': 1}],\n",
              " 'come': [1, {'V': 1}],\n",
              " 'de': [2, {'P': 2}],\n",
              " 'el': [1, {'DT': 1}],\n",
              " 'la': [5, {'DT': 2, 'N': 3}],\n",
              " 'nevera': [1, {'N': 1}],\n",
              " 'perro': [1, {'N': 1}],\n",
              " 'y': [2, {'C': 2}]}"
            ]
          },
          "metadata": {},
          "execution_count": 13
        }
      ]
    },
    {
      "cell_type": "code",
      "source": [
        "#Ejercicio 3\n",
        "# Calcular la frecuencia de los todos los bigramas de la cadena, considerar un símbolo\n",
        "# inicial <S> y un símbolo final </S> para la cadena.\n",
        "\n",
        "cadena2 = ('\\\\<S> '+cadena.replace('/', '\\\\')+' \\\\</S>').split()\n",
        "dos_gramas = []\n",
        "\n",
        "for i in range(len(cadena2)-1):\n",
        "  dos_gramas.append((cadena2[i].split('\\\\')[1], cadena2[i+1].split('\\\\')[1]))\n",
        "\n",
        "cont_dict = [[x, dos_gramas.count(x)] for x in set(dos_gramas)]\n",
        "dict(cont_dict)"
      ],
      "metadata": {
        "colab": {
          "base_uri": "https://localhost:8080/"
        },
        "id": "q3Ndn_d_loGZ",
        "outputId": "7057dab7-8642-422f-ceb9-aa40f1c059d0"
      },
      "execution_count": null,
      "outputs": [
        {
          "output_type": "execute_result",
          "data": {
            "text/plain": [
              "{('N', 'Fp'): 1,\n",
              " ('N', 'V'): 1,\n",
              " ('N', 'N'): 2,\n",
              " ('V', 'DT'): 1,\n",
              " ('N', 'C'): 2,\n",
              " ('V', 'N'): 1,\n",
              " ('C', 'P'): 1,\n",
              " ('C', 'V'): 1,\n",
              " ('P', 'DT'): 2,\n",
              " ('<S>', 'DT'): 1,\n",
              " ('N', 'P'): 1,\n",
              " ('Fp', '</S>'): 1,\n",
              " ('DT', 'N'): 4}"
            ]
          },
          "metadata": {},
          "execution_count": 31
        }
      ]
    },
    {
      "cell_type": "code",
      "source": [
        "#Ejercicio 4\n",
        "#  Construir una función que devuelva las probabilidades léxicas P(C|w) y de emisión\n",
        "# P(w|C) para una palabra dada (w) para todas sus categorías (C) que aparecen en el\n",
        "# diccionario construido anteriormente. Si la palabra no existe en el diccionario debe\n",
        "# decir que la palabra es desconocida.\n",
        "\n",
        "\n",
        "def P(x,y):\n",
        "  #P(x|y) = P(x,y)/P(y)\n",
        "  #SIEMPRE x es la palabra, y el tipo.\n",
        "\n",
        "  py = [x.split('/')[1] for x in cadena.split()].count(y)\n",
        "  pxy = cadena.split().count(x+'/'+y)\n",
        "\n",
        "  return pxy/py if py != 0 else 0\n",
        "\n",
        "def P_invert(y,x):\n",
        "  #P(y|x) = P(y,x)/P(x)\n",
        "  #SIEMPRE x es la palabra, y el tipo.\n",
        "\n",
        "  px = [x.split('/')[0] for x in cadena.split()].count(x)\n",
        "  pxy = cadena.split().count(x+'/'+y)\n",
        "\n",
        "  return pxy/px if px != 0 else 0\n",
        "\n",
        "\n",
        "def probs(w):\n",
        "\n",
        "  cases = [tuple(x.split('/')) for x in cadena.split()]\n",
        "  cases = set(filter(lambda x: x[0]==w, cases))\n",
        "  if len(cases) == 0:\n",
        "    print(\"La palabra '\" + w +\"' es desconocida\")\n",
        "  else:\n",
        "    print(\"Probabilidades de '\" + w + \"':\")\n",
        "\n",
        "  for part_case in cases:\n",
        "    print('P('+part_case[1]+'|'+part_case[0]+') =', P_invert(part_case[1],part_case[0]))\n",
        "  for part_case in cases:\n",
        "    print('P('+part_case[0]+'|'+part_case[1]+') =', P(part_case[0],part_case[1]))\n"
      ],
      "metadata": {
        "id": "zT8835fXqZgf"
      },
      "execution_count": 19,
      "outputs": []
    },
    {
      "cell_type": "code",
      "source": [
        "#Ejecución de ejemplo del ejercicio 4\n",
        "\n",
        "palabra = \"la\"\n",
        "probs(palabra)\n",
        "\n",
        "print(\"-------------------\")\n",
        "\n",
        "palabra = \"noExisto\"\n",
        "probs(palabra)"
      ],
      "metadata": {
        "colab": {
          "base_uri": "https://localhost:8080/"
        },
        "id": "Tfs7cimuKDKK",
        "outputId": "5123f45c-9f68-496f-cd18-5944f583032d"
      },
      "execution_count": 20,
      "outputs": [
        {
          "output_type": "stream",
          "name": "stdout",
          "text": [
            "Probabilidades de 'la':\n",
            "P(DT|la) = 0.4\n",
            "P(N|la) = 0.6\n",
            "P(la|DT) = 0.5\n",
            "P(la|N) = 0.42857142857142855\n",
            "-------------\n",
            "La palabra 'noExisto' es desconocida\n"
          ]
        }
      ]
    }
  ]
}